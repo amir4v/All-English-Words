{
 "cells": [
  {
   "cell_type": "code",
   "execution_count": 15,
   "metadata": {},
   "outputs": [],
   "source": [
    "from bs4 import BeautifulSoup as BS\n",
    "import requests as r\n",
    "\n",
    "URL = \"https://speak.tatar/en/lang/20000-most-common-words-in-english/?p=\"\n",
    "\n",
    "i = 1"
   ]
  },
  {
   "cell_type": "code",
   "execution_count": 20,
   "metadata": {},
   "outputs": [],
   "source": [
    "while i < 201:\n",
    "    text = r.get(URL + str(i)).text\n",
    "    bs = BS(text)\n",
    "    a_tags = bs.find('tbody').find_all('a')\n",
    "    \n",
    "    result = ''\n",
    "    for a in a_tags:\n",
    "        word = a.text.strip()\n",
    "        link = a.get('href').strip()\n",
    "        result += f'{word} -> {link}\\n'\n",
    "    open('Words.txt', 'a', encoding='utf-8').write(f'#{i}\\n{result}')\n",
    "    \n",
    "    print(i)\n",
    "    i += 1"
   ]
  },
  {
   "cell_type": "code",
   "execution_count": 1,
   "metadata": {},
   "outputs": [
    {
     "data": {
      "text/plain": [
       "500592"
      ]
     },
     "execution_count": 1,
     "metadata": {},
     "output_type": "execute_result"
    }
   ],
   "source": [
    "lines = open('Words.txt', 'rt').readlines()\n",
    "lines = [line for line in lines if ' ' not in line.split(' -> ')[0]]\n",
    "open('Words-with-no-space.txt', 'wt').write(''.join(lines))"
   ]
  },
  {
   "cell_type": "code",
   "execution_count": null,
   "metadata": {},
   "outputs": [],
   "source": []
  }
 ],
 "metadata": {
  "kernelspec": {
   "display_name": "Python 3",
   "language": "python",
   "name": "python3"
  },
  "language_info": {
   "codemirror_mode": {
    "name": "ipython",
    "version": 3
   },
   "file_extension": ".py",
   "mimetype": "text/x-python",
   "name": "python",
   "nbconvert_exporter": "python",
   "pygments_lexer": "ipython3",
   "version": "3.8.0"
  }
 },
 "nbformat": 4,
 "nbformat_minor": 2
}
