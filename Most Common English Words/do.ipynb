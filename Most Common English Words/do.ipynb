{
 "cells": [
  {
   "cell_type": "code",
   "execution_count": 2,
   "metadata": {},
   "outputs": [],
   "source": [
    "# l = open('complete-useful-sources.txt', 'r').read().lower()\n",
    "# open('complete-useful-sources_lower.txt', 'w').write(l)"
   ]
  },
  {
   "cell_type": "code",
   "execution_count": 3,
   "metadata": {},
   "outputs": [],
   "source": [
    "all = open('complete-useful-sources_lower.txt', 'r').read()\n",
    "import string\n",
    "from collections import Counter\n",
    "alphabet = string.ascii_lowercase + \"-'’\"\n",
    "def split(txt, seps):\n",
    "    default_sep = seps[0]\n",
    "    for sep in seps[1:]:\n",
    "        txt = txt.replace(sep, default_sep)\n",
    "    return [i.strip() for i in txt.split(default_sep)]"
   ]
  },
  {
   "cell_type": "code",
   "execution_count": null,
   "metadata": {},
   "outputs": [],
   "source": [
    "alls = split(all, string.whitespace)"
   ]
  },
  {
   "cell_type": "code",
   "execution_count": 8,
   "metadata": {},
   "outputs": [],
   "source": [
    "def correct(word):\n",
    "    result = ''\n",
    "    for c in word:\n",
    "        if c in alphabet:\n",
    "            result += c\n",
    "    result = result.strip(\" -'’\")\n",
    "    if len(result) < 2:\n",
    "        return ''\n",
    "    return result"
   ]
  },
  {
   "cell_type": "code",
   "execution_count": 5,
   "metadata": {},
   "outputs": [],
   "source": [
    "c = Counter(alls)"
   ]
  },
  {
   "cell_type": "code",
   "execution_count": 6,
   "metadata": {},
   "outputs": [],
   "source": [
    "most_common = c.most_common()\n",
    "most_common = [\n",
    "        correct(m[0])\n",
    "        for m in most_common\n",
    "        ]\n",
    "most_common = [\n",
    "    m for m in most_common\n",
    "    if m != ''\n",
    "]\n",
    "\n",
    "def write_most_n(n):\n",
    "    most = '\\n'.join(most_common[:n])\n",
    "    open(f'most-{n}.txt', 'w').write(most)"
   ]
  },
  {
   "cell_type": "code",
   "execution_count": 7,
   "metadata": {},
   "outputs": [],
   "source": [
    "write_most_n(500)\n",
    "write_most_n(1000)\n",
    "write_most_n(1500)\n",
    "write_most_n(3000)\n",
    "write_most_n(5000)\n",
    "write_most_n(7000)\n",
    "write_most_n(10000)\n",
    "write_most_n(len(c))"
   ]
  },
  {
   "cell_type": "code",
   "execution_count": null,
   "metadata": {},
   "outputs": [],
   "source": []
  }
 ],
 "metadata": {
  "kernelspec": {
   "display_name": "Python 3.8.10 64-bit",
   "language": "python",
   "name": "python3"
  },
  "language_info": {
   "codemirror_mode": {
    "name": "ipython",
    "version": 3
   },
   "file_extension": ".py",
   "mimetype": "text/x-python",
   "name": "python",
   "nbconvert_exporter": "python",
   "pygments_lexer": "ipython3",
   "version": "3.8.10"
  },
  "orig_nbformat": 4,
  "vscode": {
   "interpreter": {
    "hash": "916dbcbb3f70747c44a77c7bcd40155683ae19c65e1c03b4aa3499c5328201f1"
   }
  }
 },
 "nbformat": 4,
 "nbformat_minor": 2
}
