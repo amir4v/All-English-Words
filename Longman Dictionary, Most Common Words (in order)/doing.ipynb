{
 "cells": [
  {
   "cell_type": "code",
   "execution_count": 67,
   "metadata": {},
   "outputs": [
    {
     "data": {
      "text/plain": [
       "5720986"
      ]
     },
     "execution_count": 67,
     "metadata": {},
     "output_type": "execute_result"
    }
   ],
   "source": [
    "all = open('longman.txt', 'r', encoding='utf-8').read().lower()\n",
    "open('longman.lower.txt', 'w', encoding='utf-8').write(all)"
   ]
  },
  {
   "cell_type": "code",
   "execution_count": 68,
   "metadata": {},
   "outputs": [],
   "source": [
    "all = open('longman.lower.txt', 'r', encoding='utf-8').read()"
   ]
  },
  {
   "cell_type": "code",
   "execution_count": 69,
   "metadata": {},
   "outputs": [],
   "source": [
    "from collections import Counter"
   ]
  },
  {
   "cell_type": "code",
   "execution_count": 70,
   "metadata": {},
   "outputs": [
    {
     "data": {
      "text/plain": [
       "' \\t\\n\\r\\x0b\\x0c'"
      ]
     },
     "execution_count": 70,
     "metadata": {},
     "output_type": "execute_result"
    }
   ],
   "source": [
    "import string\n",
    "string.whitespace"
   ]
  },
  {
   "cell_type": "code",
   "execution_count": 71,
   "metadata": {},
   "outputs": [],
   "source": [
    "# alls = all.split()"
   ]
  },
  {
   "cell_type": "code",
   "execution_count": 72,
   "metadata": {},
   "outputs": [],
   "source": [
    "def split(txt, seps):\n",
    "    default_sep = seps[0]\n",
    "    \n",
    "    # we skip seps[0] because that's the default separator\n",
    "    for sep in seps:\n",
    "        txt = txt.replace(sep, default_sep)\n",
    "    return [i.strip(string.whitespace) for i in txt.split(default_sep)]"
   ]
  },
  {
   "cell_type": "code",
   "execution_count": 73,
   "metadata": {},
   "outputs": [],
   "source": [
    "alls = split(all, string.whitespace)"
   ]
  },
  {
   "cell_type": "code",
   "execution_count": 74,
   "metadata": {},
   "outputs": [
    {
     "data": {
      "text/plain": [
       "998438"
      ]
     },
     "execution_count": 74,
     "metadata": {},
     "output_type": "execute_result"
    }
   ],
   "source": [
    "len(alls)"
   ]
  },
  {
   "cell_type": "code",
   "execution_count": 75,
   "metadata": {},
   "outputs": [],
   "source": [
    "c = Counter(alls)"
   ]
  },
  {
   "cell_type": "code",
   "execution_count": 76,
   "metadata": {},
   "outputs": [],
   "source": [
    "def correct(word):\n",
    "    word = word.replace('�', \"'\")\n",
    "    word = word.replace(\"’\", \"'\")\n",
    "    extra = \"-/“”‘’'\" + '\"'\n",
    "    abc = string.ascii_lowercase + extra\n",
    "    result = ''\n",
    "    for c in word:\n",
    "        if c in abc:\n",
    "            result += c\n",
    "    result = result.strip(string.whitespace).strip('-/\"“”')\n",
    "    if len(result) <= 1:\n",
    "        return None\n",
    "    return result\n",
    "\n",
    "def write_most_n(n):\n",
    "    most = c.most_common(n)\n",
    "    most = [correct(m[0]) for m in most]\n",
    "    most = '\\n'.join(\n",
    "        m for m in most\n",
    "        if m not in ['', None]\n",
    "    )\n",
    "    open(f'most-{n}.txt', 'w', encoding='utf-8').write(most)"
   ]
  },
  {
   "cell_type": "code",
   "execution_count": 77,
   "metadata": {},
   "outputs": [],
   "source": [
    "write_most_n(1000)\n",
    "write_most_n(2000)\n",
    "write_most_n(3000)\n",
    "write_most_n(4000)\n",
    "write_most_n(5000)\n",
    "write_most_n(6000)\n",
    "write_most_n(7000)\n",
    "write_most_n(8000)\n",
    "write_most_n(9000)\n",
    "write_most_n(10000)\n",
    "write_most_n(15000)\n",
    "write_most_n(20000)\n"
   ]
  },
  {
   "cell_type": "code",
   "execution_count": 78,
   "metadata": {},
   "outputs": [
    {
     "data": {
      "text/plain": [
       "107663"
      ]
     },
     "execution_count": 78,
     "metadata": {},
     "output_type": "execute_result"
    }
   ],
   "source": [
    "len(c)"
   ]
  },
  {
   "cell_type": "code",
   "execution_count": 79,
   "metadata": {},
   "outputs": [],
   "source": [
    "write_most_n(len(c))"
   ]
  },
  {
   "cell_type": "code",
   "execution_count": null,
   "metadata": {},
   "outputs": [],
   "source": []
  }
 ],
 "metadata": {
  "kernelspec": {
   "display_name": "Python 3.8.10 64-bit",
   "language": "python",
   "name": "python3"
  },
  "language_info": {
   "codemirror_mode": {
    "name": "ipython",
    "version": 3
   },
   "file_extension": ".py",
   "mimetype": "text/x-python",
   "name": "python",
   "nbconvert_exporter": "python",
   "pygments_lexer": "ipython3",
   "version": "3.8.0"
  },
  "orig_nbformat": 4,
  "vscode": {
   "interpreter": {
    "hash": "916dbcbb3f70747c44a77c7bcd40155683ae19c65e1c03b4aa3499c5328201f1"
   }
  }
 },
 "nbformat": 4,
 "nbformat_minor": 2
}
